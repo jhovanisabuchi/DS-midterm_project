{
 "cells": [
  {
   "cell_type": "code",
   "execution_count": 2,
   "metadata": {},
   "outputs": [],
   "source": [
<<<<<<< HEAD
    "df = pd.read_csv(r\"C:\\Users\\johnk\\DS-midterm_project\\csv files\\cleaned_data.csv\")"
=======
    "import pandas as pd\n",
    "import seaborn as sns\n",
    "import matplotlib.pyplot as plt\n",
    "import os"
   ]
  },
  {
   "cell_type": "code",
   "execution_count": 3,
   "metadata": {},
   "outputs": [],
   "source": [
    "df = pd.read_csv(os.getcwd()+\"\\\\..\\\\csvFiles\\\\cleaned_data.csv\")"
>>>>>>> 0266590d41f5c9a5bcd77de6b158925a97487e87
   ]
  },
  {
   "cell_type": "code",
   "execution_count": 4,
   "metadata": {},
   "outputs": [
    {
     "data": {
      "text/html": [
       "<div>\n",
       "<style scoped>\n",
       "    .dataframe tbody tr th:only-of-type {\n",
       "        vertical-align: middle;\n",
       "    }\n",
       "\n",
       "    .dataframe tbody tr th {\n",
       "        vertical-align: top;\n",
       "    }\n",
       "\n",
       "    .dataframe thead th {\n",
       "        text-align: right;\n",
       "    }\n",
       "</style>\n",
       "<table border=\"1\" class=\"dataframe\">\n",
       "  <thead>\n",
       "    <tr style=\"text-align: right;\">\n",
       "      <th></th>\n",
       "      <th>Unnamed: 0</th>\n",
       "      <th>status</th>\n",
       "      <th>list_date</th>\n",
       "      <th>year_built</th>\n",
       "      <th>sold_date</th>\n",
       "      <th>sold_price</th>\n",
       "      <th>baths_full</th>\n",
       "      <th>lot_sqft</th>\n",
       "      <th>sqft</th>\n",
       "      <th>baths</th>\n",
       "      <th>garage</th>\n",
       "      <th>stories</th>\n",
       "      <th>beds</th>\n",
       "      <th>type</th>\n",
       "      <th>city</th>\n",
       "      <th>county</th>\n",
       "      <th>lat</th>\n",
       "      <th>lon</th>\n",
       "    </tr>\n",
       "  </thead>\n",
       "  <tbody>\n",
       "    <tr>\n",
       "      <th>0</th>\n",
       "      <td>0</td>\n",
       "      <td>sold</td>\n",
       "      <td>2023-06-29T21:16:25.000000Z</td>\n",
       "      <td>1963.0</td>\n",
       "      <td>2023-09-18</td>\n",
       "      <td>554950.0</td>\n",
       "      <td>2.0</td>\n",
       "      <td>10454.000000</td>\n",
       "      <td>1821.0</td>\n",
       "      <td>2.0</td>\n",
       "      <td>1.0</td>\n",
       "      <td>1.567732</td>\n",
       "      <td>3.0</td>\n",
       "      <td>single_family</td>\n",
       "      <td>Alaska</td>\n",
       "      <td>Juneau</td>\n",
       "      <td>58.363950</td>\n",
       "      <td>-134.593720</td>\n",
       "    </tr>\n",
       "    <tr>\n",
       "      <th>1</th>\n",
       "      <td>5</td>\n",
       "      <td>sold</td>\n",
       "      <td>2023-08-21T21:01:22.000000Z</td>\n",
       "      <td>1969.0</td>\n",
       "      <td>2023-08-04</td>\n",
       "      <td>415000.0</td>\n",
       "      <td>1.0</td>\n",
       "      <td>251094.946789</td>\n",
       "      <td>950.0</td>\n",
       "      <td>1.0</td>\n",
       "      <td>0.0</td>\n",
       "      <td>1.567732</td>\n",
       "      <td>2.0</td>\n",
       "      <td>condos</td>\n",
       "      <td>Alaska</td>\n",
       "      <td>Juneau</td>\n",
       "      <td>58.386651</td>\n",
       "      <td>-134.649067</td>\n",
       "    </tr>\n",
       "    <tr>\n",
       "      <th>2</th>\n",
       "      <td>6</td>\n",
       "      <td>sold</td>\n",
       "      <td>2023-08-21T21:01:22.000000Z</td>\n",
       "      <td>1920.0</td>\n",
       "      <td>2023-08-03</td>\n",
       "      <td>835000.0</td>\n",
       "      <td>3.0</td>\n",
       "      <td>5875.000000</td>\n",
       "      <td>3860.0</td>\n",
       "      <td>3.0</td>\n",
       "      <td>2.0</td>\n",
       "      <td>1.567732</td>\n",
       "      <td>5.0</td>\n",
       "      <td>single_family</td>\n",
       "      <td>Alaska</td>\n",
       "      <td>Juneau</td>\n",
       "      <td>58.304573</td>\n",
       "      <td>-134.403991</td>\n",
       "    </tr>\n",
       "    <tr>\n",
       "      <th>3</th>\n",
       "      <td>12</td>\n",
       "      <td>sold</td>\n",
       "      <td>2023-08-21T21:01:22.000000Z</td>\n",
       "      <td>1969.0</td>\n",
       "      <td>2023-08-04</td>\n",
       "      <td>415000.0</td>\n",
       "      <td>1.0</td>\n",
       "      <td>251094.946789</td>\n",
       "      <td>950.0</td>\n",
       "      <td>1.0</td>\n",
       "      <td>0.0</td>\n",
       "      <td>1.567732</td>\n",
       "      <td>2.0</td>\n",
       "      <td>condos</td>\n",
       "      <td>Alaska</td>\n",
       "      <td>Juneau</td>\n",
       "      <td>58.386651</td>\n",
       "      <td>-134.649067</td>\n",
       "    </tr>\n",
       "    <tr>\n",
       "      <th>4</th>\n",
       "      <td>13</td>\n",
       "      <td>sold</td>\n",
       "      <td>2023-08-21T21:01:22.000000Z</td>\n",
       "      <td>1920.0</td>\n",
       "      <td>2023-08-03</td>\n",
       "      <td>835000.0</td>\n",
       "      <td>3.0</td>\n",
       "      <td>5875.000000</td>\n",
       "      <td>3860.0</td>\n",
       "      <td>3.0</td>\n",
       "      <td>2.0</td>\n",
       "      <td>1.567732</td>\n",
       "      <td>5.0</td>\n",
       "      <td>single_family</td>\n",
       "      <td>Alaska</td>\n",
       "      <td>Juneau</td>\n",
       "      <td>58.304573</td>\n",
       "      <td>-134.403991</td>\n",
       "    </tr>\n",
       "  </tbody>\n",
       "</table>\n",
       "</div>"
      ],
      "text/plain": [
       "   Unnamed: 0 status                    list_date  year_built   sold_date  \\\n",
       "0           0   sold  2023-06-29T21:16:25.000000Z      1963.0  2023-09-18   \n",
       "1           5   sold  2023-08-21T21:01:22.000000Z      1969.0  2023-08-04   \n",
       "2           6   sold  2023-08-21T21:01:22.000000Z      1920.0  2023-08-03   \n",
       "3          12   sold  2023-08-21T21:01:22.000000Z      1969.0  2023-08-04   \n",
       "4          13   sold  2023-08-21T21:01:22.000000Z      1920.0  2023-08-03   \n",
       "\n",
       "   sold_price  baths_full       lot_sqft    sqft  baths  garage   stories  \\\n",
       "0    554950.0         2.0   10454.000000  1821.0    2.0     1.0  1.567732   \n",
       "1    415000.0         1.0  251094.946789   950.0    1.0     0.0  1.567732   \n",
       "2    835000.0         3.0    5875.000000  3860.0    3.0     2.0  1.567732   \n",
       "3    415000.0         1.0  251094.946789   950.0    1.0     0.0  1.567732   \n",
       "4    835000.0         3.0    5875.000000  3860.0    3.0     2.0  1.567732   \n",
       "\n",
       "   beds           type    city  county        lat         lon  \n",
       "0   3.0  single_family  Alaska  Juneau  58.363950 -134.593720  \n",
       "1   2.0         condos  Alaska  Juneau  58.386651 -134.649067  \n",
       "2   5.0  single_family  Alaska  Juneau  58.304573 -134.403991  \n",
       "3   2.0         condos  Alaska  Juneau  58.386651 -134.649067  \n",
       "4   5.0  single_family  Alaska  Juneau  58.304573 -134.403991  "
      ]
     },
     "execution_count": 4,
     "metadata": {},
     "output_type": "execute_result"
    }
   ],
   "source": [
    "df.head()"
   ]
  },
  {
   "cell_type": "code",
<<<<<<< HEAD
   "execution_count": 21,
=======
   "execution_count": 5,
>>>>>>> 0266590d41f5c9a5bcd77de6b158925a97487e87
   "metadata": {},
   "outputs": [],
   "source": [
    "df = df.drop(\"Unnamed: 0\",axis = 1)"
   ]
  },
  {
   "cell_type": "code",
<<<<<<< HEAD
   "execution_count": 14,
=======
   "execution_count": 6,
>>>>>>> 0266590d41f5c9a5bcd77de6b158925a97487e87
   "metadata": {},
   "outputs": [],
   "source": [
    "df_numerrical = df[[\"year_built\",\"sold_price\",\"baths_full\",\"lot_sqft\",\"sqft\",\"baths\",\"garage\",\"stories\",\"beds\",\"lat\",\"lon\"]]"
   ]
  },
  {
   "cell_type": "code",
<<<<<<< HEAD
   "execution_count": 9,
=======
   "execution_count": 7,
>>>>>>> 0266590d41f5c9a5bcd77de6b158925a97487e87
   "metadata": {},
   "outputs": [],
   "source": [
    "df_category = df [[\"status\",\"type\",\"city\",\"county\"]]"
   ]
  },
  {
   "cell_type": "code",
<<<<<<< HEAD
   "execution_count": 15,
=======
   "execution_count": 8,
>>>>>>> 0266590d41f5c9a5bcd77de6b158925a97487e87
   "metadata": {},
   "outputs": [
    {
     "data": {
      "image/png": "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",
      "text/plain": [
       "<Figure size 1000x600 with 2 Axes>"
      ]
     },
     "metadata": {},
     "output_type": "display_data"
    }
   ],
   "source": [
    "# Compute correlation matrix\n",
    "corr_matrix = df_numerrical.corr()\n",
    "\n",
    "# Plot heatmap\n",
    "plt.figure(figsize=(10,6))\n",
    "sns.heatmap(corr_matrix, annot=True, cmap='coolwarm')\n",
    "plt.show()\n"
   ]
  },
  {
   "cell_type": "code",
<<<<<<< HEAD
   "execution_count": 38,
=======
   "execution_count": 9,
>>>>>>> 0266590d41f5c9a5bcd77de6b158925a97487e87
   "metadata": {},
   "outputs": [],
   "source": [
    "from sklearn.model_selection import train_test_split\n",
    "from sklearn.linear_model import LinearRegression\n",
    "from sklearn.metrics import mean_absolute_error, mean_squared_error, r2_score\n",
    "from sklearn.tree import DecisionTreeRegressor\n"
   ]
  },
  {
   "cell_type": "code",
<<<<<<< HEAD
   "execution_count": 32,
=======
   "execution_count": 10,
>>>>>>> 0266590d41f5c9a5bcd77de6b158925a97487e87
   "metadata": {},
   "outputs": [],
   "source": [
    "\n",
    "X = df_numerrical.drop(columns =[\"sold_price\"])\n",
    "y = df_numerrical[\"sold_price\"]"
   ]
  },
  {
   "cell_type": "code",
<<<<<<< HEAD
   "execution_count": 33,
=======
   "execution_count": 11,
>>>>>>> 0266590d41f5c9a5bcd77de6b158925a97487e87
   "metadata": {},
   "outputs": [],
   "source": [
    "X_train, X_test, y_train, y_test = train_test_split(X, y, test_size = 0.7, random_state= 42)"
   ]
  },
  {
   "cell_type": "code",
<<<<<<< HEAD
   "execution_count": 34,
=======
   "execution_count": 12,
>>>>>>> 0266590d41f5c9a5bcd77de6b158925a97487e87
   "metadata": {},
   "outputs": [
    {
     "name": "stdout",
     "output_type": "stream",
     "text": [
      "X_train shape: (2396, 10)\n",
      "X_test shape: (5592, 10)\n",
      "y_train shape: (2396,)\n",
      "y_test shape: (5592,)\n"
     ]
    }
   ],
   "source": [
    "# Verify the shapes of the resulting datasets\n",
    "print(f\"X_train shape: {X_train.shape}\")\n",
    "print(f\"X_test shape: {X_test.shape}\")\n",
    "print(f\"y_train shape: {y_train.shape}\")\n",
    "print(f\"y_test shape: {y_test.shape}\")"
   ]
  },
  {
   "cell_type": "code",
<<<<<<< HEAD
   "execution_count": 42,
=======
   "execution_count": 13,
>>>>>>> 0266590d41f5c9a5bcd77de6b158925a97487e87
   "metadata": {},
   "outputs": [],
   "source": [
    "from sklearn.preprocessing import StandardScaler\n",
    "scaler = StandardScaler()\n",
    "X_train_scaled = scaler.fit_transform(X_train)\n",
    "X_test_scaled = scaler.transform(X_test)\n"
   ]
  },
  {
   "cell_type": "code",
<<<<<<< HEAD
   "execution_count": 43,
=======
   "execution_count": 14,
>>>>>>> 0266590d41f5c9a5bcd77de6b158925a97487e87
   "metadata": {},
   "outputs": [
    {
     "data": {
      "text/html": [
<<<<<<< HEAD
       "<style>#sk-container-id-3 {\n",
=======
       "<style>#sk-container-id-1 {\n",
>>>>>>> 0266590d41f5c9a5bcd77de6b158925a97487e87
       "  /* Definition of color scheme common for light and dark mode */\n",
       "  --sklearn-color-text: black;\n",
       "  --sklearn-color-line: gray;\n",
       "  /* Definition of color scheme for unfitted estimators */\n",
       "  --sklearn-color-unfitted-level-0: #fff5e6;\n",
       "  --sklearn-color-unfitted-level-1: #f6e4d2;\n",
       "  --sklearn-color-unfitted-level-2: #ffe0b3;\n",
       "  --sklearn-color-unfitted-level-3: chocolate;\n",
       "  /* Definition of color scheme for fitted estimators */\n",
       "  --sklearn-color-fitted-level-0: #f0f8ff;\n",
       "  --sklearn-color-fitted-level-1: #d4ebff;\n",
       "  --sklearn-color-fitted-level-2: #b3dbfd;\n",
       "  --sklearn-color-fitted-level-3: cornflowerblue;\n",
       "\n",
       "  /* Specific color for light theme */\n",
       "  --sklearn-color-text-on-default-background: var(--sg-text-color, var(--theme-code-foreground, var(--jp-content-font-color1, black)));\n",
       "  --sklearn-color-background: var(--sg-background-color, var(--theme-background, var(--jp-layout-color0, white)));\n",
       "  --sklearn-color-border-box: var(--sg-text-color, var(--theme-code-foreground, var(--jp-content-font-color1, black)));\n",
       "  --sklearn-color-icon: #696969;\n",
       "\n",
       "  @media (prefers-color-scheme: dark) {\n",
       "    /* Redefinition of color scheme for dark theme */\n",
       "    --sklearn-color-text-on-default-background: var(--sg-text-color, var(--theme-code-foreground, var(--jp-content-font-color1, white)));\n",
       "    --sklearn-color-background: var(--sg-background-color, var(--theme-background, var(--jp-layout-color0, #111)));\n",
       "    --sklearn-color-border-box: var(--sg-text-color, var(--theme-code-foreground, var(--jp-content-font-color1, white)));\n",
       "    --sklearn-color-icon: #878787;\n",
       "  }\n",
       "}\n",
       "\n",
<<<<<<< HEAD
       "#sk-container-id-3 {\n",
       "  color: var(--sklearn-color-text);\n",
       "}\n",
       "\n",
       "#sk-container-id-3 pre {\n",
       "  padding: 0;\n",
       "}\n",
       "\n",
       "#sk-container-id-3 input.sk-hidden--visually {\n",
=======
       "#sk-container-id-1 {\n",
       "  color: var(--sklearn-color-text);\n",
       "}\n",
       "\n",
       "#sk-container-id-1 pre {\n",
       "  padding: 0;\n",
       "}\n",
       "\n",
       "#sk-container-id-1 input.sk-hidden--visually {\n",
>>>>>>> 0266590d41f5c9a5bcd77de6b158925a97487e87
       "  border: 0;\n",
       "  clip: rect(1px 1px 1px 1px);\n",
       "  clip: rect(1px, 1px, 1px, 1px);\n",
       "  height: 1px;\n",
       "  margin: -1px;\n",
       "  overflow: hidden;\n",
       "  padding: 0;\n",
       "  position: absolute;\n",
       "  width: 1px;\n",
       "}\n",
       "\n",
<<<<<<< HEAD
       "#sk-container-id-3 div.sk-dashed-wrapped {\n",
=======
       "#sk-container-id-1 div.sk-dashed-wrapped {\n",
>>>>>>> 0266590d41f5c9a5bcd77de6b158925a97487e87
       "  border: 1px dashed var(--sklearn-color-line);\n",
       "  margin: 0 0.4em 0.5em 0.4em;\n",
       "  box-sizing: border-box;\n",
       "  padding-bottom: 0.4em;\n",
       "  background-color: var(--sklearn-color-background);\n",
       "}\n",
       "\n",
<<<<<<< HEAD
       "#sk-container-id-3 div.sk-container {\n",
=======
       "#sk-container-id-1 div.sk-container {\n",
>>>>>>> 0266590d41f5c9a5bcd77de6b158925a97487e87
       "  /* jupyter's `normalize.less` sets `[hidden] { display: none; }`\n",
       "     but bootstrap.min.css set `[hidden] { display: none !important; }`\n",
       "     so we also need the `!important` here to be able to override the\n",
       "     default hidden behavior on the sphinx rendered scikit-learn.org.\n",
       "     See: https://github.com/scikit-learn/scikit-learn/issues/21755 */\n",
       "  display: inline-block !important;\n",
       "  position: relative;\n",
       "}\n",
       "\n",
<<<<<<< HEAD
       "#sk-container-id-3 div.sk-text-repr-fallback {\n",
=======
       "#sk-container-id-1 div.sk-text-repr-fallback {\n",
>>>>>>> 0266590d41f5c9a5bcd77de6b158925a97487e87
       "  display: none;\n",
       "}\n",
       "\n",
       "div.sk-parallel-item,\n",
       "div.sk-serial,\n",
       "div.sk-item {\n",
       "  /* draw centered vertical line to link estimators */\n",
       "  background-image: linear-gradient(var(--sklearn-color-text-on-default-background), var(--sklearn-color-text-on-default-background));\n",
       "  background-size: 2px 100%;\n",
       "  background-repeat: no-repeat;\n",
       "  background-position: center center;\n",
       "}\n",
       "\n",
       "/* Parallel-specific style estimator block */\n",
       "\n",
<<<<<<< HEAD
       "#sk-container-id-3 div.sk-parallel-item::after {\n",
=======
       "#sk-container-id-1 div.sk-parallel-item::after {\n",
>>>>>>> 0266590d41f5c9a5bcd77de6b158925a97487e87
       "  content: \"\";\n",
       "  width: 100%;\n",
       "  border-bottom: 2px solid var(--sklearn-color-text-on-default-background);\n",
       "  flex-grow: 1;\n",
       "}\n",
       "\n",
<<<<<<< HEAD
       "#sk-container-id-3 div.sk-parallel {\n",
=======
       "#sk-container-id-1 div.sk-parallel {\n",
>>>>>>> 0266590d41f5c9a5bcd77de6b158925a97487e87
       "  display: flex;\n",
       "  align-items: stretch;\n",
       "  justify-content: center;\n",
       "  background-color: var(--sklearn-color-background);\n",
       "  position: relative;\n",
       "}\n",
       "\n",
<<<<<<< HEAD
       "#sk-container-id-3 div.sk-parallel-item {\n",
=======
       "#sk-container-id-1 div.sk-parallel-item {\n",
>>>>>>> 0266590d41f5c9a5bcd77de6b158925a97487e87
       "  display: flex;\n",
       "  flex-direction: column;\n",
       "}\n",
       "\n",
<<<<<<< HEAD
       "#sk-container-id-3 div.sk-parallel-item:first-child::after {\n",
=======
       "#sk-container-id-1 div.sk-parallel-item:first-child::after {\n",
>>>>>>> 0266590d41f5c9a5bcd77de6b158925a97487e87
       "  align-self: flex-end;\n",
       "  width: 50%;\n",
       "}\n",
       "\n",
<<<<<<< HEAD
       "#sk-container-id-3 div.sk-parallel-item:last-child::after {\n",
=======
       "#sk-container-id-1 div.sk-parallel-item:last-child::after {\n",
>>>>>>> 0266590d41f5c9a5bcd77de6b158925a97487e87
       "  align-self: flex-start;\n",
       "  width: 50%;\n",
       "}\n",
       "\n",
<<<<<<< HEAD
       "#sk-container-id-3 div.sk-parallel-item:only-child::after {\n",
=======
       "#sk-container-id-1 div.sk-parallel-item:only-child::after {\n",
>>>>>>> 0266590d41f5c9a5bcd77de6b158925a97487e87
       "  width: 0;\n",
       "}\n",
       "\n",
       "/* Serial-specific style estimator block */\n",
       "\n",
<<<<<<< HEAD
       "#sk-container-id-3 div.sk-serial {\n",
=======
       "#sk-container-id-1 div.sk-serial {\n",
>>>>>>> 0266590d41f5c9a5bcd77de6b158925a97487e87
       "  display: flex;\n",
       "  flex-direction: column;\n",
       "  align-items: center;\n",
       "  background-color: var(--sklearn-color-background);\n",
       "  padding-right: 1em;\n",
       "  padding-left: 1em;\n",
       "}\n",
       "\n",
       "\n",
       "/* Toggleable style: style used for estimator/Pipeline/ColumnTransformer box that is\n",
       "clickable and can be expanded/collapsed.\n",
       "- Pipeline and ColumnTransformer use this feature and define the default style\n",
       "- Estimators will overwrite some part of the style using the `sk-estimator` class\n",
       "*/\n",
       "\n",
       "/* Pipeline and ColumnTransformer style (default) */\n",
       "\n",
<<<<<<< HEAD
       "#sk-container-id-3 div.sk-toggleable {\n",
=======
       "#sk-container-id-1 div.sk-toggleable {\n",
>>>>>>> 0266590d41f5c9a5bcd77de6b158925a97487e87
       "  /* Default theme specific background. It is overwritten whether we have a\n",
       "  specific estimator or a Pipeline/ColumnTransformer */\n",
       "  background-color: var(--sklearn-color-background);\n",
       "}\n",
       "\n",
       "/* Toggleable label */\n",
<<<<<<< HEAD
       "#sk-container-id-3 label.sk-toggleable__label {\n",
=======
       "#sk-container-id-1 label.sk-toggleable__label {\n",
>>>>>>> 0266590d41f5c9a5bcd77de6b158925a97487e87
       "  cursor: pointer;\n",
       "  display: block;\n",
       "  width: 100%;\n",
       "  margin-bottom: 0;\n",
       "  padding: 0.5em;\n",
       "  box-sizing: border-box;\n",
       "  text-align: center;\n",
       "}\n",
       "\n",
<<<<<<< HEAD
       "#sk-container-id-3 label.sk-toggleable__label-arrow:before {\n",
=======
       "#sk-container-id-1 label.sk-toggleable__label-arrow:before {\n",
>>>>>>> 0266590d41f5c9a5bcd77de6b158925a97487e87
       "  /* Arrow on the left of the label */\n",
       "  content: \"▸\";\n",
       "  float: left;\n",
       "  margin-right: 0.25em;\n",
       "  color: var(--sklearn-color-icon);\n",
       "}\n",
       "\n",
<<<<<<< HEAD
       "#sk-container-id-3 label.sk-toggleable__label-arrow:hover:before {\n",
=======
       "#sk-container-id-1 label.sk-toggleable__label-arrow:hover:before {\n",
>>>>>>> 0266590d41f5c9a5bcd77de6b158925a97487e87
       "  color: var(--sklearn-color-text);\n",
       "}\n",
       "\n",
       "/* Toggleable content - dropdown */\n",
       "\n",
<<<<<<< HEAD
       "#sk-container-id-3 div.sk-toggleable__content {\n",
=======
       "#sk-container-id-1 div.sk-toggleable__content {\n",
>>>>>>> 0266590d41f5c9a5bcd77de6b158925a97487e87
       "  max-height: 0;\n",
       "  max-width: 0;\n",
       "  overflow: hidden;\n",
       "  text-align: left;\n",
       "  /* unfitted */\n",
       "  background-color: var(--sklearn-color-unfitted-level-0);\n",
       "}\n",
       "\n",
<<<<<<< HEAD
       "#sk-container-id-3 div.sk-toggleable__content.fitted {\n",
=======
       "#sk-container-id-1 div.sk-toggleable__content.fitted {\n",
>>>>>>> 0266590d41f5c9a5bcd77de6b158925a97487e87
       "  /* fitted */\n",
       "  background-color: var(--sklearn-color-fitted-level-0);\n",
       "}\n",
       "\n",
<<<<<<< HEAD
       "#sk-container-id-3 div.sk-toggleable__content pre {\n",
=======
       "#sk-container-id-1 div.sk-toggleable__content pre {\n",
>>>>>>> 0266590d41f5c9a5bcd77de6b158925a97487e87
       "  margin: 0.2em;\n",
       "  border-radius: 0.25em;\n",
       "  color: var(--sklearn-color-text);\n",
       "  /* unfitted */\n",
       "  background-color: var(--sklearn-color-unfitted-level-0);\n",
       "}\n",
       "\n",
<<<<<<< HEAD
       "#sk-container-id-3 div.sk-toggleable__content.fitted pre {\n",
=======
       "#sk-container-id-1 div.sk-toggleable__content.fitted pre {\n",
>>>>>>> 0266590d41f5c9a5bcd77de6b158925a97487e87
       "  /* unfitted */\n",
       "  background-color: var(--sklearn-color-fitted-level-0);\n",
       "}\n",
       "\n",
<<<<<<< HEAD
       "#sk-container-id-3 input.sk-toggleable__control:checked~div.sk-toggleable__content {\n",
=======
       "#sk-container-id-1 input.sk-toggleable__control:checked~div.sk-toggleable__content {\n",
>>>>>>> 0266590d41f5c9a5bcd77de6b158925a97487e87
       "  /* Expand drop-down */\n",
       "  max-height: 200px;\n",
       "  max-width: 100%;\n",
       "  overflow: auto;\n",
       "}\n",
       "\n",
<<<<<<< HEAD
       "#sk-container-id-3 input.sk-toggleable__control:checked~label.sk-toggleable__label-arrow:before {\n",
=======
       "#sk-container-id-1 input.sk-toggleable__control:checked~label.sk-toggleable__label-arrow:before {\n",
>>>>>>> 0266590d41f5c9a5bcd77de6b158925a97487e87
       "  content: \"▾\";\n",
       "}\n",
       "\n",
       "/* Pipeline/ColumnTransformer-specific style */\n",
       "\n",
<<<<<<< HEAD
       "#sk-container-id-3 div.sk-label input.sk-toggleable__control:checked~label.sk-toggleable__label {\n",
=======
       "#sk-container-id-1 div.sk-label input.sk-toggleable__control:checked~label.sk-toggleable__label {\n",
>>>>>>> 0266590d41f5c9a5bcd77de6b158925a97487e87
       "  color: var(--sklearn-color-text);\n",
       "  background-color: var(--sklearn-color-unfitted-level-2);\n",
       "}\n",
       "\n",
<<<<<<< HEAD
       "#sk-container-id-3 div.sk-label.fitted input.sk-toggleable__control:checked~label.sk-toggleable__label {\n",
=======
       "#sk-container-id-1 div.sk-label.fitted input.sk-toggleable__control:checked~label.sk-toggleable__label {\n",
>>>>>>> 0266590d41f5c9a5bcd77de6b158925a97487e87
       "  background-color: var(--sklearn-color-fitted-level-2);\n",
       "}\n",
       "\n",
       "/* Estimator-specific style */\n",
       "\n",
       "/* Colorize estimator box */\n",
<<<<<<< HEAD
       "#sk-container-id-3 div.sk-estimator input.sk-toggleable__control:checked~label.sk-toggleable__label {\n",
=======
       "#sk-container-id-1 div.sk-estimator input.sk-toggleable__control:checked~label.sk-toggleable__label {\n",
>>>>>>> 0266590d41f5c9a5bcd77de6b158925a97487e87
       "  /* unfitted */\n",
       "  background-color: var(--sklearn-color-unfitted-level-2);\n",
       "}\n",
       "\n",
<<<<<<< HEAD
       "#sk-container-id-3 div.sk-estimator.fitted input.sk-toggleable__control:checked~label.sk-toggleable__label {\n",
=======
       "#sk-container-id-1 div.sk-estimator.fitted input.sk-toggleable__control:checked~label.sk-toggleable__label {\n",
>>>>>>> 0266590d41f5c9a5bcd77de6b158925a97487e87
       "  /* fitted */\n",
       "  background-color: var(--sklearn-color-fitted-level-2);\n",
       "}\n",
       "\n",
<<<<<<< HEAD
       "#sk-container-id-3 div.sk-label label.sk-toggleable__label,\n",
       "#sk-container-id-3 div.sk-label label {\n",
=======
       "#sk-container-id-1 div.sk-label label.sk-toggleable__label,\n",
       "#sk-container-id-1 div.sk-label label {\n",
>>>>>>> 0266590d41f5c9a5bcd77de6b158925a97487e87
       "  /* The background is the default theme color */\n",
       "  color: var(--sklearn-color-text-on-default-background);\n",
       "}\n",
       "\n",
       "/* On hover, darken the color of the background */\n",
<<<<<<< HEAD
       "#sk-container-id-3 div.sk-label:hover label.sk-toggleable__label {\n",
=======
       "#sk-container-id-1 div.sk-label:hover label.sk-toggleable__label {\n",
>>>>>>> 0266590d41f5c9a5bcd77de6b158925a97487e87
       "  color: var(--sklearn-color-text);\n",
       "  background-color: var(--sklearn-color-unfitted-level-2);\n",
       "}\n",
       "\n",
       "/* Label box, darken color on hover, fitted */\n",
<<<<<<< HEAD
       "#sk-container-id-3 div.sk-label.fitted:hover label.sk-toggleable__label.fitted {\n",
=======
       "#sk-container-id-1 div.sk-label.fitted:hover label.sk-toggleable__label.fitted {\n",
>>>>>>> 0266590d41f5c9a5bcd77de6b158925a97487e87
       "  color: var(--sklearn-color-text);\n",
       "  background-color: var(--sklearn-color-fitted-level-2);\n",
       "}\n",
       "\n",
       "/* Estimator label */\n",
       "\n",
<<<<<<< HEAD
       "#sk-container-id-3 div.sk-label label {\n",
=======
       "#sk-container-id-1 div.sk-label label {\n",
>>>>>>> 0266590d41f5c9a5bcd77de6b158925a97487e87
       "  font-family: monospace;\n",
       "  font-weight: bold;\n",
       "  display: inline-block;\n",
       "  line-height: 1.2em;\n",
       "}\n",
       "\n",
<<<<<<< HEAD
       "#sk-container-id-3 div.sk-label-container {\n",
=======
       "#sk-container-id-1 div.sk-label-container {\n",
>>>>>>> 0266590d41f5c9a5bcd77de6b158925a97487e87
       "  text-align: center;\n",
       "}\n",
       "\n",
       "/* Estimator-specific */\n",
<<<<<<< HEAD
       "#sk-container-id-3 div.sk-estimator {\n",
=======
       "#sk-container-id-1 div.sk-estimator {\n",
>>>>>>> 0266590d41f5c9a5bcd77de6b158925a97487e87
       "  font-family: monospace;\n",
       "  border: 1px dotted var(--sklearn-color-border-box);\n",
       "  border-radius: 0.25em;\n",
       "  box-sizing: border-box;\n",
       "  margin-bottom: 0.5em;\n",
       "  /* unfitted */\n",
       "  background-color: var(--sklearn-color-unfitted-level-0);\n",
       "}\n",
       "\n",
<<<<<<< HEAD
       "#sk-container-id-3 div.sk-estimator.fitted {\n",
=======
       "#sk-container-id-1 div.sk-estimator.fitted {\n",
>>>>>>> 0266590d41f5c9a5bcd77de6b158925a97487e87
       "  /* fitted */\n",
       "  background-color: var(--sklearn-color-fitted-level-0);\n",
       "}\n",
       "\n",
       "/* on hover */\n",
<<<<<<< HEAD
       "#sk-container-id-3 div.sk-estimator:hover {\n",
=======
       "#sk-container-id-1 div.sk-estimator:hover {\n",
>>>>>>> 0266590d41f5c9a5bcd77de6b158925a97487e87
       "  /* unfitted */\n",
       "  background-color: var(--sklearn-color-unfitted-level-2);\n",
       "}\n",
       "\n",
<<<<<<< HEAD
       "#sk-container-id-3 div.sk-estimator.fitted:hover {\n",
=======
       "#sk-container-id-1 div.sk-estimator.fitted:hover {\n",
>>>>>>> 0266590d41f5c9a5bcd77de6b158925a97487e87
       "  /* fitted */\n",
       "  background-color: var(--sklearn-color-fitted-level-2);\n",
       "}\n",
       "\n",
       "/* Specification for estimator info (e.g. \"i\" and \"?\") */\n",
       "\n",
       "/* Common style for \"i\" and \"?\" */\n",
       "\n",
       ".sk-estimator-doc-link,\n",
       "a:link.sk-estimator-doc-link,\n",
       "a:visited.sk-estimator-doc-link {\n",
       "  float: right;\n",
       "  font-size: smaller;\n",
       "  line-height: 1em;\n",
       "  font-family: monospace;\n",
       "  background-color: var(--sklearn-color-background);\n",
       "  border-radius: 1em;\n",
       "  height: 1em;\n",
       "  width: 1em;\n",
       "  text-decoration: none !important;\n",
       "  margin-left: 1ex;\n",
       "  /* unfitted */\n",
       "  border: var(--sklearn-color-unfitted-level-1) 1pt solid;\n",
       "  color: var(--sklearn-color-unfitted-level-1);\n",
       "}\n",
       "\n",
       ".sk-estimator-doc-link.fitted,\n",
       "a:link.sk-estimator-doc-link.fitted,\n",
       "a:visited.sk-estimator-doc-link.fitted {\n",
       "  /* fitted */\n",
       "  border: var(--sklearn-color-fitted-level-1) 1pt solid;\n",
       "  color: var(--sklearn-color-fitted-level-1);\n",
       "}\n",
       "\n",
       "/* On hover */\n",
       "div.sk-estimator:hover .sk-estimator-doc-link:hover,\n",
       ".sk-estimator-doc-link:hover,\n",
       "div.sk-label-container:hover .sk-estimator-doc-link:hover,\n",
       ".sk-estimator-doc-link:hover {\n",
       "  /* unfitted */\n",
       "  background-color: var(--sklearn-color-unfitted-level-3);\n",
       "  color: var(--sklearn-color-background);\n",
       "  text-decoration: none;\n",
       "}\n",
       "\n",
       "div.sk-estimator.fitted:hover .sk-estimator-doc-link.fitted:hover,\n",
       ".sk-estimator-doc-link.fitted:hover,\n",
       "div.sk-label-container:hover .sk-estimator-doc-link.fitted:hover,\n",
       ".sk-estimator-doc-link.fitted:hover {\n",
       "  /* fitted */\n",
       "  background-color: var(--sklearn-color-fitted-level-3);\n",
       "  color: var(--sklearn-color-background);\n",
       "  text-decoration: none;\n",
       "}\n",
       "\n",
       "/* Span, style for the box shown on hovering the info icon */\n",
       ".sk-estimator-doc-link span {\n",
       "  display: none;\n",
       "  z-index: 9999;\n",
       "  position: relative;\n",
       "  font-weight: normal;\n",
       "  right: .2ex;\n",
       "  padding: .5ex;\n",
       "  margin: .5ex;\n",
       "  width: min-content;\n",
       "  min-width: 20ex;\n",
       "  max-width: 50ex;\n",
       "  color: var(--sklearn-color-text);\n",
       "  box-shadow: 2pt 2pt 4pt #999;\n",
       "  /* unfitted */\n",
       "  background: var(--sklearn-color-unfitted-level-0);\n",
       "  border: .5pt solid var(--sklearn-color-unfitted-level-3);\n",
       "}\n",
       "\n",
       ".sk-estimator-doc-link.fitted span {\n",
       "  /* fitted */\n",
       "  background: var(--sklearn-color-fitted-level-0);\n",
       "  border: var(--sklearn-color-fitted-level-3);\n",
       "}\n",
       "\n",
       ".sk-estimator-doc-link:hover span {\n",
       "  display: block;\n",
       "}\n",
       "\n",
       "/* \"?\"-specific style due to the `<a>` HTML tag */\n",
       "\n",
<<<<<<< HEAD
       "#sk-container-id-3 a.estimator_doc_link {\n",
=======
       "#sk-container-id-1 a.estimator_doc_link {\n",
>>>>>>> 0266590d41f5c9a5bcd77de6b158925a97487e87
       "  float: right;\n",
       "  font-size: 1rem;\n",
       "  line-height: 1em;\n",
       "  font-family: monospace;\n",
       "  background-color: var(--sklearn-color-background);\n",
       "  border-radius: 1rem;\n",
       "  height: 1rem;\n",
       "  width: 1rem;\n",
       "  text-decoration: none;\n",
       "  /* unfitted */\n",
       "  color: var(--sklearn-color-unfitted-level-1);\n",
       "  border: var(--sklearn-color-unfitted-level-1) 1pt solid;\n",
       "}\n",
       "\n",
<<<<<<< HEAD
       "#sk-container-id-3 a.estimator_doc_link.fitted {\n",
=======
       "#sk-container-id-1 a.estimator_doc_link.fitted {\n",
>>>>>>> 0266590d41f5c9a5bcd77de6b158925a97487e87
       "  /* fitted */\n",
       "  border: var(--sklearn-color-fitted-level-1) 1pt solid;\n",
       "  color: var(--sklearn-color-fitted-level-1);\n",
       "}\n",
       "\n",
       "/* On hover */\n",
<<<<<<< HEAD
       "#sk-container-id-3 a.estimator_doc_link:hover {\n",
=======
       "#sk-container-id-1 a.estimator_doc_link:hover {\n",
>>>>>>> 0266590d41f5c9a5bcd77de6b158925a97487e87
       "  /* unfitted */\n",
       "  background-color: var(--sklearn-color-unfitted-level-3);\n",
       "  color: var(--sklearn-color-background);\n",
       "  text-decoration: none;\n",
       "}\n",
       "\n",
<<<<<<< HEAD
       "#sk-container-id-3 a.estimator_doc_link.fitted:hover {\n",
       "  /* fitted */\n",
       "  background-color: var(--sklearn-color-fitted-level-3);\n",
       "}\n",
       "</style><div id=\"sk-container-id-3\" class=\"sk-top-container\"><div class=\"sk-text-repr-fallback\"><pre>DecisionTreeRegressor()</pre><b>In a Jupyter environment, please rerun this cell to show the HTML representation or trust the notebook. <br />On GitHub, the HTML representation is unable to render, please try loading this page with nbviewer.org.</b></div><div class=\"sk-container\" hidden><div class=\"sk-item\"><div class=\"sk-estimator fitted sk-toggleable\"><input class=\"sk-toggleable__control sk-hidden--visually\" id=\"sk-estimator-id-3\" type=\"checkbox\" checked><label for=\"sk-estimator-id-3\" class=\"sk-toggleable__label fitted sk-toggleable__label-arrow fitted\">&nbsp;&nbsp;DecisionTreeRegressor<a class=\"sk-estimator-doc-link fitted\" rel=\"noreferrer\" target=\"_blank\" href=\"https://scikit-learn.org/1.5/modules/generated/sklearn.tree.DecisionTreeRegressor.html\">?<span>Documentation for DecisionTreeRegressor</span></a><span class=\"sk-estimator-doc-link fitted\">i<span>Fitted</span></span></label><div class=\"sk-toggleable__content fitted\"><pre>DecisionTreeRegressor()</pre></div> </div></div></div></div>"
=======
       "#sk-container-id-1 a.estimator_doc_link.fitted:hover {\n",
       "  /* fitted */\n",
       "  background-color: var(--sklearn-color-fitted-level-3);\n",
       "}\n",
       "</style><div id=\"sk-container-id-1\" class=\"sk-top-container\"><div class=\"sk-text-repr-fallback\"><pre>DecisionTreeRegressor()</pre><b>In a Jupyter environment, please rerun this cell to show the HTML representation or trust the notebook. <br />On GitHub, the HTML representation is unable to render, please try loading this page with nbviewer.org.</b></div><div class=\"sk-container\" hidden><div class=\"sk-item\"><div class=\"sk-estimator fitted sk-toggleable\"><input class=\"sk-toggleable__control sk-hidden--visually\" id=\"sk-estimator-id-1\" type=\"checkbox\" checked><label for=\"sk-estimator-id-1\" class=\"sk-toggleable__label fitted sk-toggleable__label-arrow fitted\">&nbsp;&nbsp;DecisionTreeRegressor<a class=\"sk-estimator-doc-link fitted\" rel=\"noreferrer\" target=\"_blank\" href=\"https://scikit-learn.org/1.5/modules/generated/sklearn.tree.DecisionTreeRegressor.html\">?<span>Documentation for DecisionTreeRegressor</span></a><span class=\"sk-estimator-doc-link fitted\">i<span>Fitted</span></span></label><div class=\"sk-toggleable__content fitted\"><pre>DecisionTreeRegressor()</pre></div> </div></div></div></div>"
>>>>>>> 0266590d41f5c9a5bcd77de6b158925a97487e87
      ],
      "text/plain": [
       "DecisionTreeRegressor()"
      ]
     },
<<<<<<< HEAD
     "execution_count": 43,
=======
     "execution_count": 14,
>>>>>>> 0266590d41f5c9a5bcd77de6b158925a97487e87
     "metadata": {},
     "output_type": "execute_result"
    }
   ],
   "source": [
    "model = DecisionTreeRegressor()\n",
    "model.fit(X_train_scaled,y_train)"
   ]
  },
  {
   "cell_type": "code",
<<<<<<< HEAD
   "execution_count": 44,
=======
   "execution_count": 15,
>>>>>>> 0266590d41f5c9a5bcd77de6b158925a97487e87
   "metadata": {},
   "outputs": [],
   "source": [
    "y_pred = model.predict(X_test_scaled)"
   ]
  },
  {
   "cell_type": "code",
<<<<<<< HEAD
   "execution_count": 45,
=======
   "execution_count": 16,
>>>>>>> 0266590d41f5c9a5bcd77de6b158925a97487e87
   "metadata": {},
   "outputs": [
    {
     "name": "stdout",
     "output_type": "stream",
     "text": [
<<<<<<< HEAD
      "MAE: 41866.4484\n",
      "MSE: 24358155434.2053\n",
      "R² Score: 0.9410\n"
=======
      "MAE: 40701.1139\n",
      "MSE: 21215686664.9435\n",
      "R² Score: 0.9486\n"
>>>>>>> 0266590d41f5c9a5bcd77de6b158925a97487e87
     ]
    }
   ],
   "source": [
    "mae = mean_absolute_error(y_test, y_pred)\n",
    "mse = mean_squared_error(y_test, y_pred)\n",
    "r2 = r2_score(y_test, y_pred)\n",
    "\n",
    "print(f\"MAE: {mae:.4f}\")\n",
    "print(f\"MSE: {mse:.4f}\")\n",
    "print(f\"R² Score: {r2:.4f}\")\n"
   ]
  }
 ],
 "metadata": {
  "kernelspec": {
<<<<<<< HEAD
   "display_name": "base",
=======
   "display_name": "Python 3 (ipykernel)",
>>>>>>> 0266590d41f5c9a5bcd77de6b158925a97487e87
   "language": "python",
   "name": "python3"
  },
  "language_info": {
   "codemirror_mode": {
    "name": "ipython",
    "version": 3
   },
   "file_extension": ".py",
   "mimetype": "text/x-python",
   "name": "python",
   "nbconvert_exporter": "python",
   "pygments_lexer": "ipython3",
   "version": "3.12.3"
  }
 },
 "nbformat": 4,
<<<<<<< HEAD
 "nbformat_minor": 2
=======
 "nbformat_minor": 4
>>>>>>> 0266590d41f5c9a5bcd77de6b158925a97487e87
}
