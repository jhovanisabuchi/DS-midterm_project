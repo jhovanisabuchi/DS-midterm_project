{
 "cells": [
  {
   "cell_type": "code",
   "execution_count": 10,
   "id": "ab3c4f65-bc89-4e41-a9ff-830c48994989",
   "metadata": {},
   "outputs": [],
   "source": [
    "import pandas as pd\n",
    "from pathlib import Path\n",
    "import json\n",
    "import os\n",
    "import numpy as np"
   ]
  },
  {
   "cell_type": "code",
   "execution_count": 64,
   "id": "40f4f370-a843-4da9-8847-059b20dee3b2",
   "metadata": {},
   "outputs": [],
   "source": [
    "tagList = []\n",
    "cityList = []\n",
    "stateList = []\n",
    "def extract_data(data):\n",
    "    for item in data['data']['results']:\n",
    "        if type(item['tags']) == list:\n",
    "            for tag in item['tags']:\n",
    "                try:\n",
    "                    if tag not in tagList:\n",
    "                        tagList.append(tag)\n",
    "                        print(tag)\n",
    "                except TypeError as e:\n",
    "                    ls.append(np.nan)\n",
    "        try:\n",
    "            if item['location']['address']['city'] not in cityList:\n",
    "                cityList.append(item['location']['address']['city'])\n",
    "        except TypeError as e:\n",
    "            ls.append(np.nan)\n",
    "        try:\n",
    "            if item['location']['address']['state'] not in stateList:\n",
    "                stateList.append(item['location']['address']['state'])\n",
    "        except TypeError as e:\n",
    "            ls.append(np.nan)"
   ]
  },
  {
   "cell_type": "code",
   "execution_count": 66,
   "id": "7da75c67-fa7a-45a5-b3b4-ae03b9a5a0d4",
   "metadata": {
    "scrolled": true
   },
   "outputs": [
    {
     "name": "stdout",
     "output_type": "stream",
     "text": [
      "carport\n",
      "community_outdoor_space\n",
      "cul_de_sac\n",
      "family_room\n",
      "hardwood_floors\n",
      "hill_or_mountain_view\n",
      "recreation_facilities\n",
      "rv_or_boat_parking\n",
      "basement\n",
      "garage_1_or_more\n",
      "two_or_more_stories\n",
      "big_yard\n",
      "high_ceiling\n",
      "efficient\n",
      "trails\n",
      "shopping\n",
      "ocean_view\n",
      "single_story\n",
      "waterfront\n",
      "open_floor_plan\n",
      "floor_plan\n",
      "rental_property\n",
      "furniture\n",
      "new_roof\n",
      "beach\n",
      "city_view\n",
      "community_security_features\n",
      "corner_lot\n",
      "lake_view\n",
      "river_view\n",
      "spa_or_hot_tub\n",
      "garage_2_or_more\n",
      "vaulted_ceiling\n",
      "media_room\n",
      "ensuite\n",
      "private_courtyard\n",
      "central_air\n",
      "central_heat\n",
      "dishwasher\n",
      "energy_efficient\n",
      "fireplace\n",
      "laundry_room\n",
      "fenced_yard\n",
      "fixer_upper\n",
      "master_bedroom\n",
      "big_lot\n",
      "horse_facilities\n",
      "pond\n",
      "swimming_pool\n",
      "washer_dryer\n",
      "updated_kitchen\n",
      "master_suite\n",
      "medicalcare\n",
      "disability_features\n",
      "wooded_land\n",
      "front_porch\n",
      "large_porch\n",
      "community_swimming_pool\n",
      "golf_course_lot_or_frontage\n",
      "tennis_court\n",
      "tennis\n",
      "community_park\n",
      "water_view\n",
      "modern_kitchen\n",
      "large_kitchen\n",
      "clubhouse\n",
      "hoa\n",
      "maintenance\n",
      "park\n",
      "groundscare\n",
      "jack_and_jill_bathroom\n",
      "two_master_suites\n",
      "big_bathroom\n",
      "investment_opportunity\n",
      "granite_kitchen\n",
      "private_backyard\n",
      "open_kitchen\n",
      "view\n",
      "garage_3_or_more\n",
      "den_or_office\n",
      "beautiful_backyard\n",
      "library\n",
      "community_center\n",
      "gourmet_kitchen\n",
      "community_golf\n",
      "community_tennis_court\n",
      "community_clubhouse\n",
      "playground\n",
      "lake\n",
      "golf_course\n",
      "volleyball\n",
      "smart_homes\n",
      "guest_parking\n",
      "coffer_ceiling\n",
      "storm_shelter\n",
      "exposed_brick\n",
      "master_bathroom\n",
      "forced_air\n",
      "solar_system\n",
      "outdoor_kitchen\n",
      "gated_community\n",
      "views\n",
      "security\n",
      "rv_parking\n",
      "private_bathroom\n",
      "solar_panels\n",
      "fruit_trees\n",
      "mountain_view\n",
      "no_hoa\n",
      "detached_guest_house\n",
      "guest_house\n",
      "farm\n",
      "ranch\n",
      "pets_allowed\n",
      "river_access\n",
      "basketball_court\n",
      "basketball\n",
      "community_gym\n",
      "senior_community\n",
      "theater_room\n",
      "courtyard_entry\n",
      "marina\n",
      "greenbelt\n",
      "dining_room\n",
      "kitchen_island\n",
      "community_spa_or_hot_tub\n",
      "golf_course_view\n",
      "handicap_access\n",
      "elevator\n",
      "open_house\n",
      "two_kitchen\n",
      "low_hoa\n",
      "community_horse_facilities\n",
      "first_floor_master_bedroom\n",
      "outbuilding\n",
      "cathedral_ceiling\n",
      "screen_porch\n",
      "well_water\n",
      "fenced_courtyard\n",
      "white_kitchen\n",
      "game_room\n",
      "wine_cellar\n",
      "private_parking\n",
      "soccer\n",
      "wrap_around_porch\n",
      "community_boat_facilities\n",
      "indoor_basketball_court\n",
      "community_elevator\n",
      "greenhouse\n",
      "baseball\n",
      "horse_stables\n",
      "horse_property\n",
      "equestrian\n",
      "boat_dock\n",
      "dual_master_bedroom\n"
     ]
    }
   ],
   "source": [
    "folder_path = Path(os.getcwd()+\"//..//data\")\n",
    "dataList = []\n",
    "for file in folder_path.glob(\"*.json\"):  # Loops through all JSON files\n",
    "    with open(file, \"r\", encoding=\"utf-8\") as f:\n",
    "        data = json.load(f)\n",
    "        s = extract_data(data)\n",
    "        dataList.append(s)"
   ]
  },
  {
   "cell_type": "code",
   "execution_count": 68,
   "id": "e65afc7a-6438-4680-a957-4642f99fe3c6",
   "metadata": {},
   "outputs": [
    {
     "data": {
      "text/plain": [
       "155"
      ]
     },
     "execution_count": 68,
     "metadata": {},
     "output_type": "execute_result"
    }
   ],
   "source": [
    "len(tagList)"
   ]
  },
  {
   "cell_type": "code",
   "execution_count": 72,
   "id": "46c6d37e-3e55-447c-90e1-4a15f6b1fa7c",
   "metadata": {},
   "outputs": [
    {
     "data": {
      "text/plain": [
       "102"
      ]
     },
     "execution_count": 72,
     "metadata": {},
     "output_type": "execute_result"
    }
   ],
   "source": [
    "len(cityList)"
   ]
  },
  {
   "cell_type": "code",
   "execution_count": 74,
   "id": "bc85be7a-2979-4922-a195-9a314cb461e6",
   "metadata": {},
   "outputs": [
    {
     "data": {
      "text/plain": [
       "45"
      ]
     },
     "execution_count": 74,
     "metadata": {},
     "output_type": "execute_result"
    }
   ],
   "source": [
    "len(stateList)"
   ]
  },
  {
   "cell_type": "code",
   "execution_count": null,
   "id": "20227e5e-6e01-4555-8b51-6f6a97b2f8c6",
   "metadata": {},
   "outputs": [],
   "source": []
  }
 ],
 "metadata": {
  "kernelspec": {
   "display_name": "LHL_Env",
   "language": "python",
   "name": "lhl_env"
  },
  "language_info": {
   "codemirror_mode": {
    "name": "ipython",
    "version": 3
   },
   "file_extension": ".py",
   "mimetype": "text/x-python",
   "name": "python",
   "nbconvert_exporter": "python",
   "pygments_lexer": "ipython3",
   "version": "3.12.3"
  }
 },
 "nbformat": 4,
 "nbformat_minor": 5
}
