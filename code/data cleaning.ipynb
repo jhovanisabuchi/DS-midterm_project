{
 "cells": [
  {
   "cell_type": "code",
   "execution_count": 2,
   "metadata": {},
   "outputs": [],
   "source": [
    "import pandas as pd \n",
    "import os"
   ]
  },
  {
   "cell_type": "code",
   "execution_count": 3,
   "metadata": {},
   "outputs": [],
   "source": [
    "df = pd.read_csv(os.getcwd()+\"\\\\..\\\\csvFiles\\\\r_merged_data.csv\")"
   ]
  },
  {
   "cell_type": "code",
   "execution_count": 4,
   "metadata": {},
   "outputs": [
    {
     "data": {
      "text/html": [
       "<div>\n",
       "<style scoped>\n",
       "    .dataframe tbody tr th:only-of-type {\n",
       "        vertical-align: middle;\n",
       "    }\n",
       "\n",
       "    .dataframe tbody tr th {\n",
       "        vertical-align: top;\n",
       "    }\n",
       "\n",
       "    .dataframe thead th {\n",
       "        text-align: right;\n",
       "    }\n",
       "</style>\n",
       "<table border=\"1\" class=\"dataframe\">\n",
       "  <thead>\n",
       "    <tr style=\"text-align: right;\">\n",
       "      <th></th>\n",
       "      <th>Unnamed: 0</th>\n",
       "      <th>status</th>\n",
       "      <th>list_date</th>\n",
       "      <th>list_price</th>\n",
       "      <th>year_built</th>\n",
       "      <th>sold_date</th>\n",
       "      <th>sold_price</th>\n",
       "      <th>baths_full</th>\n",
       "      <th>lot_sqft</th>\n",
       "      <th>sqft</th>\n",
       "      <th>baths</th>\n",
       "      <th>garage</th>\n",
       "      <th>stories</th>\n",
       "      <th>beds</th>\n",
       "      <th>type</th>\n",
       "      <th>city</th>\n",
       "      <th>county</th>\n",
       "      <th>lat</th>\n",
       "      <th>lon</th>\n",
       "    </tr>\n",
       "  </thead>\n",
       "  <tbody>\n",
       "    <tr>\n",
       "      <th>0</th>\n",
       "      <td>0</td>\n",
       "      <td>sold</td>\n",
       "      <td>2023-06-29T21:16:25.000000Z</td>\n",
       "      <td>554950.0</td>\n",
       "      <td>1963.0</td>\n",
       "      <td>2023-09-18</td>\n",
       "      <td>NaN</td>\n",
       "      <td>2.0</td>\n",
       "      <td>10454.0</td>\n",
       "      <td>1821.0</td>\n",
       "      <td>2.0</td>\n",
       "      <td>1.0</td>\n",
       "      <td>NaN</td>\n",
       "      <td>3.0</td>\n",
       "      <td>single_family</td>\n",
       "      <td>Alaska</td>\n",
       "      <td>Juneau</td>\n",
       "      <td>58.36395</td>\n",
       "      <td>-134.59372</td>\n",
       "    </tr>\n",
       "    <tr>\n",
       "      <th>1</th>\n",
       "      <td>1</td>\n",
       "      <td>sold</td>\n",
       "      <td>NaN</td>\n",
       "      <td>NaN</td>\n",
       "      <td>NaN</td>\n",
       "      <td>2023-08-22</td>\n",
       "      <td>NaN</td>\n",
       "      <td>NaN</td>\n",
       "      <td>NaN</td>\n",
       "      <td>NaN</td>\n",
       "      <td>NaN</td>\n",
       "      <td>NaN</td>\n",
       "      <td>NaN</td>\n",
       "      <td>NaN</td>\n",
       "      <td>NaN</td>\n",
       "      <td>Alaska</td>\n",
       "      <td>Juneau</td>\n",
       "      <td>NaN</td>\n",
       "      <td>NaN</td>\n",
       "    </tr>\n",
       "    <tr>\n",
       "      <th>2</th>\n",
       "      <td>2</td>\n",
       "      <td>sold</td>\n",
       "      <td>NaN</td>\n",
       "      <td>NaN</td>\n",
       "      <td>NaN</td>\n",
       "      <td>2023-08-22</td>\n",
       "      <td>NaN</td>\n",
       "      <td>NaN</td>\n",
       "      <td>NaN</td>\n",
       "      <td>NaN</td>\n",
       "      <td>NaN</td>\n",
       "      <td>NaN</td>\n",
       "      <td>NaN</td>\n",
       "      <td>NaN</td>\n",
       "      <td>NaN</td>\n",
       "      <td>Alaska</td>\n",
       "      <td>Juneau</td>\n",
       "      <td>NaN</td>\n",
       "      <td>NaN</td>\n",
       "    </tr>\n",
       "    <tr>\n",
       "      <th>3</th>\n",
       "      <td>3</td>\n",
       "      <td>sold</td>\n",
       "      <td>NaN</td>\n",
       "      <td>NaN</td>\n",
       "      <td>NaN</td>\n",
       "      <td>2023-08-21</td>\n",
       "      <td>NaN</td>\n",
       "      <td>NaN</td>\n",
       "      <td>NaN</td>\n",
       "      <td>NaN</td>\n",
       "      <td>NaN</td>\n",
       "      <td>NaN</td>\n",
       "      <td>NaN</td>\n",
       "      <td>NaN</td>\n",
       "      <td>NaN</td>\n",
       "      <td>Alaska</td>\n",
       "      <td>Juneau</td>\n",
       "      <td>NaN</td>\n",
       "      <td>NaN</td>\n",
       "    </tr>\n",
       "    <tr>\n",
       "      <th>4</th>\n",
       "      <td>4</td>\n",
       "      <td>sold</td>\n",
       "      <td>NaN</td>\n",
       "      <td>NaN</td>\n",
       "      <td>NaN</td>\n",
       "      <td>2023-08-21</td>\n",
       "      <td>NaN</td>\n",
       "      <td>NaN</td>\n",
       "      <td>NaN</td>\n",
       "      <td>NaN</td>\n",
       "      <td>NaN</td>\n",
       "      <td>NaN</td>\n",
       "      <td>NaN</td>\n",
       "      <td>NaN</td>\n",
       "      <td>NaN</td>\n",
       "      <td>Alaska</td>\n",
       "      <td>Juneau</td>\n",
       "      <td>NaN</td>\n",
       "      <td>NaN</td>\n",
       "    </tr>\n",
       "  </tbody>\n",
       "</table>\n",
       "</div>"
      ],
      "text/plain": [
       "   Unnamed: 0 status                    list_date  list_price  year_built  \\\n",
       "0           0   sold  2023-06-29T21:16:25.000000Z    554950.0      1963.0   \n",
       "1           1   sold                          NaN         NaN         NaN   \n",
       "2           2   sold                          NaN         NaN         NaN   \n",
       "3           3   sold                          NaN         NaN         NaN   \n",
       "4           4   sold                          NaN         NaN         NaN   \n",
       "\n",
       "    sold_date  sold_price  baths_full  lot_sqft    sqft  baths  garage  \\\n",
       "0  2023-09-18         NaN         2.0   10454.0  1821.0    2.0     1.0   \n",
       "1  2023-08-22         NaN         NaN       NaN     NaN    NaN     NaN   \n",
       "2  2023-08-22         NaN         NaN       NaN     NaN    NaN     NaN   \n",
       "3  2023-08-21         NaN         NaN       NaN     NaN    NaN     NaN   \n",
       "4  2023-08-21         NaN         NaN       NaN     NaN    NaN     NaN   \n",
       "\n",
       "   stories  beds           type    city  county       lat        lon  \n",
       "0      NaN   3.0  single_family  Alaska  Juneau  58.36395 -134.59372  \n",
       "1      NaN   NaN            NaN  Alaska  Juneau       NaN        NaN  \n",
       "2      NaN   NaN            NaN  Alaska  Juneau       NaN        NaN  \n",
       "3      NaN   NaN            NaN  Alaska  Juneau       NaN        NaN  \n",
       "4      NaN   NaN            NaN  Alaska  Juneau       NaN        NaN  "
      ]
     },
     "execution_count": 4,
     "metadata": {},
     "output_type": "execute_result"
    }
   ],
   "source": [
    "df.head(5)"
   ]
  },
  {
   "cell_type": "code",
   "execution_count": 5,
   "metadata": {},
   "outputs": [
    {
     "data": {
      "text/plain": [
       "Unnamed: 0       0\n",
       "status           0\n",
       "list_date      407\n",
       "list_price     438\n",
       "year_built     843\n",
       "sold_date        0\n",
       "sold_price    1443\n",
       "baths_full     848\n",
       "lot_sqft      1168\n",
       "sqft           836\n",
       "baths          179\n",
       "garage        3711\n",
       "stories       1899\n",
       "beds           655\n",
       "type            34\n",
       "city             0\n",
       "county          10\n",
       "lat            250\n",
       "lon            250\n",
       "dtype: int64"
      ]
     },
     "execution_count": 5,
     "metadata": {},
     "output_type": "execute_result"
    }
   ],
   "source": [
    "df.isnull().sum()"
   ]
  },
  {
   "cell_type": "code",
   "execution_count": 6,
   "metadata": {},
   "outputs": [
    {
     "data": {
      "text/plain": [
       "1504"
      ]
     },
     "execution_count": 6,
     "metadata": {},
     "output_type": "execute_result"
    }
   ],
   "source": [
    "# Count the number of rows where 'list_price' and 'sold_price' are the same\n",
    "same_price_count = df[df['list_price'] == df['sold_price']].shape[0]\n",
    "\n",
    "# Display the result\n",
    "same_price_count"
   ]
  },
  {
   "cell_type": "code",
   "execution_count": 7,
   "metadata": {},
   "outputs": [
    {
     "data": {
      "text/plain": [
       "1292"
      ]
     },
     "execution_count": 7,
     "metadata": {},
     "output_type": "execute_result"
    }
   ],
   "source": [
    "# Count the number of rows with 'list_price' not null and 'sold_price' null\n",
    "count = df[(df['list_price'].notnull()) & (df['sold_price'].isnull())].shape[0]\n",
    "\n",
    "# Display the result\n",
    "count"
   ]
  },
  {
   "cell_type": "code",
   "execution_count": 8,
   "metadata": {},
   "outputs": [],
   "source": [
    "# drop the unnamed column its not neccecery\n",
    "df = df.drop(\"Unnamed: 0\", axis=1)"
   ]
  },
  {
   "cell_type": "code",
   "execution_count": 25,
   "metadata": {},
   "outputs": [
    {
     "name": "stdout",
     "output_type": "stream",
     "text": [
      "DataFrame shape: (8159, 18)\n",
      "\n",
      "Number of missing values per row:\n",
      "0     2652\n",
      "1     3162\n",
      "2     1067\n",
      "3      342\n",
      "4      185\n",
      "5       69\n",
      "6      248\n",
      "7       52\n",
      "8      113\n",
      "9      116\n",
      "10      38\n",
      "11      44\n",
      "12      37\n",
      "13      20\n",
      "14      14\n",
      "Name: count, dtype: int64\n",
      "\n",
      "Number of rows with 14 or more missing values: 14\n",
      "Percentage of rows with 14 or more missing values: 0.17%\n",
      "\n",
      "Missing values per column:\n",
      "garage        3711\n",
      "stories       1899\n",
      "sold_price    1443\n",
      "lot_sqft      1168\n",
      "baths_full     848\n",
      "year_built     843\n",
      "sqft           836\n",
      "beds           655\n",
      "list_price     438\n",
      "list_date      407\n",
      "lon            250\n",
      "lat            250\n",
      "baths          179\n",
      "type            34\n",
      "county          10\n",
      "city             0\n",
      "sold_date        0\n",
      "status           0\n",
      "dtype: int64\n"
     ]
    }
   ],
   "source": [
    "\n",
    "# Assuming your DataFrame is called 'df'\n",
    "print(f\"DataFrame shape: {df.shape}\")\n",
    "\n",
    "# Number of missing values per row\n",
    "missing_per_row = df.isnull().sum(axis=1)\n",
    "print(\"\\nNumber of missing values per row:\")\n",
    "print(missing_per_row.value_counts().sort_index())\n",
    "\n",
    "# Number of rows with 14 or more missing values\n",
    "rows_with_many_missing = missing_per_row[missing_per_row >= 14]\n",
    "print(f\"\\nNumber of rows with 14 or more missing values: {len(rows_with_many_missing)}\")\n",
    "print(f\"Percentage of rows with 14 or more missing values: {len(rows_with_many_missing) / len(df) * 100:.2f}%\")\n",
    "\n",
    "# Missing values per column\n",
    "missing_per_column = df.isnull().sum()\n",
    "print(\"\\nMissing values per column:\")\n",
    "print(missing_per_column.sort_values(ascending=False))\n",
    "\n",
    "import matplotlib.pyplot as plt\n",
    "plt.show()"
   ]
  },
  {
   "cell_type": "code",
   "execution_count": 27,
   "metadata": {},
   "outputs": [
    {
     "data": {
      "text/plain": [
       "1443"
      ]
     },
     "execution_count": 27,
     "metadata": {},
     "output_type": "execute_result"
    }
   ],
   "source": [
    "df[\"sold_price\"].isnull().sum()\n"
   ]
  },
  {
   "cell_type": "code",
   "execution_count": 29,
   "metadata": {},
   "outputs": [
    {
     "name": "stderr",
     "output_type": "stream",
     "text": [
      "C:\\Users\\Tyler\\AppData\\Local\\Temp\\ipykernel_18024\\3447562323.py:2: FutureWarning: A value is trying to be set on a copy of a DataFrame or Series through chained assignment using an inplace method.\n",
      "The behavior will change in pandas 3.0. This inplace method will never work because the intermediate object on which we are setting values always behaves as a copy.\n",
      "\n",
      "For example, when doing 'df[col].method(value, inplace=True)', try using 'df.method({col: value}, inplace=True)' or df[col] = df[col].method(value) instead, to perform the operation inplace on the original object.\n",
      "\n",
      "\n",
      "  df['sold_price'].fillna(df['list_price'], inplace=True)\n"
     ]
    },
    {
     "data": {
      "text/plain": [
       "151"
      ]
     },
     "execution_count": 29,
     "metadata": {},
     "output_type": "execute_result"
    }
   ],
   "source": [
    "# Fill 'sold_price' null values with 'list_price'\n",
    "df['sold_price'].fillna(df['list_price'], inplace=True)\n",
    "\n",
    "# Verify the changes\n",
    "df.head()\n",
    "\n",
    "df[\"sold_price\"].isnull().sum()\n"
   ]
  },
  {
   "cell_type": "code",
   "execution_count": 31,
   "metadata": {},
   "outputs": [
    {
     "name": "stderr",
     "output_type": "stream",
     "text": [
      "C:\\Users\\Tyler\\AppData\\Local\\Temp\\ipykernel_18024\\869320574.py:2: FutureWarning: A value is trying to be set on a copy of a DataFrame or Series through chained assignment using an inplace method.\n",
      "The behavior will change in pandas 3.0. This inplace method will never work because the intermediate object on which we are setting values always behaves as a copy.\n",
      "\n",
      "For example, when doing 'df[col].method(value, inplace=True)', try using 'df.method({col: value}, inplace=True)' or df[col] = df[col].method(value) instead, to perform the operation inplace on the original object.\n",
      "\n",
      "\n",
      "  df['garage'].fillna(0, inplace=True)\n"
     ]
    }
   ],
   "source": [
    "# Fill NaN values in the 'garage' column with 0\n",
    "df['garage'].fillna(0, inplace=True)"
   ]
  },
  {
   "cell_type": "code",
   "execution_count": 33,
   "metadata": {},
   "outputs": [],
   "source": [
    "# Drop rows with more than 10 NaN values\n",
    "df = df.dropna(thresh=df.shape[1] - 10)"
   ]
  },
  {
   "cell_type": "code",
   "execution_count": 35,
   "metadata": {},
   "outputs": [],
   "source": [
    "#Filling missing latitude based on the mean latitude for each city:\n",
    "\n",
    "df['lat'] = df.groupby('city')['lat'].transform(lambda x: x.fillna(x.mean()))\n"
   ]
  },
  {
   "cell_type": "code",
   "execution_count": 37,
   "metadata": {},
   "outputs": [],
   "source": [
    "#Filling missing longitude based on the mean longitude for each city:\n",
    "\n",
    "\n",
    "df['lon'] = df.groupby('city')['lon'].transform(lambda x: x.fillna(x.mean()))\n"
   ]
  },
  {
   "cell_type": "code",
   "execution_count": 39,
   "metadata": {},
   "outputs": [],
   "source": [
    "#Filling missing county based on the mode county for each city:\n",
    "\n",
    "df['county'] = df.groupby('city')['county'].transform(lambda x: x.fillna(x.mode().iloc[0] if not x.mode().empty else x))"
   ]
  },
  {
   "cell_type": "code",
   "execution_count": 41,
   "metadata": {},
   "outputs": [],
   "source": [
    "# Columns to fill missing values with their means\n",
    "columns_to_fill = ['baths_full', 'lot_sqft', 'sqft', 'baths', 'stories', 'beds']\n",
    "\n",
    "# Fill each column with its mean\n",
    "for column in columns_to_fill:\n",
    "    df[column] = df[column].fillna(df[column].mean())\n"
   ]
  },
  {
   "cell_type": "code",
   "execution_count": 43,
   "metadata": {},
   "outputs": [],
   "source": [
    "# drop list_price because its almost the same as sold_price\n",
    "df= df.drop(\"list_price\", axis=1)"
   ]
  },
  {
   "cell_type": "code",
   "execution_count": 45,
   "metadata": {},
   "outputs": [
    {
     "data": {
      "text/html": [
       "<div>\n",
       "<style scoped>\n",
       "    .dataframe tbody tr th:only-of-type {\n",
       "        vertical-align: middle;\n",
       "    }\n",
       "\n",
       "    .dataframe tbody tr th {\n",
       "        vertical-align: top;\n",
       "    }\n",
       "\n",
       "    .dataframe thead th {\n",
       "        text-align: right;\n",
       "    }\n",
       "</style>\n",
       "<table border=\"1\" class=\"dataframe\">\n",
       "  <thead>\n",
       "    <tr style=\"text-align: right;\">\n",
       "      <th></th>\n",
       "      <th>status</th>\n",
       "      <th>list_date</th>\n",
       "      <th>year_built</th>\n",
       "      <th>sold_date</th>\n",
       "      <th>sold_price</th>\n",
       "      <th>baths_full</th>\n",
       "      <th>lot_sqft</th>\n",
       "      <th>sqft</th>\n",
       "      <th>baths</th>\n",
       "      <th>garage</th>\n",
       "      <th>stories</th>\n",
       "      <th>beds</th>\n",
       "      <th>type</th>\n",
       "      <th>city</th>\n",
       "      <th>county</th>\n",
       "      <th>lat</th>\n",
       "      <th>lon</th>\n",
       "    </tr>\n",
       "  </thead>\n",
       "  <tbody>\n",
       "    <tr>\n",
       "      <th>0</th>\n",
       "      <td>sold</td>\n",
       "      <td>2023-06-29T21:16:25.000000Z</td>\n",
       "      <td>1963.0</td>\n",
       "      <td>2023-09-18</td>\n",
       "      <td>554950.0</td>\n",
       "      <td>2.0</td>\n",
       "      <td>10454.000000</td>\n",
       "      <td>1821.0</td>\n",
       "      <td>2.0</td>\n",
       "      <td>1.0</td>\n",
       "      <td>1.567732</td>\n",
       "      <td>3.0</td>\n",
       "      <td>single_family</td>\n",
       "      <td>Alaska</td>\n",
       "      <td>Juneau</td>\n",
       "      <td>58.363950</td>\n",
       "      <td>-134.593720</td>\n",
       "    </tr>\n",
       "    <tr>\n",
       "      <th>5</th>\n",
       "      <td>sold</td>\n",
       "      <td>2023-08-21T21:01:22.000000Z</td>\n",
       "      <td>1969.0</td>\n",
       "      <td>2023-08-04</td>\n",
       "      <td>415000.0</td>\n",
       "      <td>1.0</td>\n",
       "      <td>251094.946789</td>\n",
       "      <td>950.0</td>\n",
       "      <td>1.0</td>\n",
       "      <td>0.0</td>\n",
       "      <td>1.567732</td>\n",
       "      <td>2.0</td>\n",
       "      <td>condos</td>\n",
       "      <td>Alaska</td>\n",
       "      <td>Juneau</td>\n",
       "      <td>58.386651</td>\n",
       "      <td>-134.649067</td>\n",
       "    </tr>\n",
       "    <tr>\n",
       "      <th>6</th>\n",
       "      <td>sold</td>\n",
       "      <td>2023-08-21T21:01:22.000000Z</td>\n",
       "      <td>1920.0</td>\n",
       "      <td>2023-08-03</td>\n",
       "      <td>835000.0</td>\n",
       "      <td>3.0</td>\n",
       "      <td>5875.000000</td>\n",
       "      <td>3860.0</td>\n",
       "      <td>3.0</td>\n",
       "      <td>2.0</td>\n",
       "      <td>1.567732</td>\n",
       "      <td>5.0</td>\n",
       "      <td>single_family</td>\n",
       "      <td>Alaska</td>\n",
       "      <td>Juneau</td>\n",
       "      <td>58.304573</td>\n",
       "      <td>-134.403991</td>\n",
       "    </tr>\n",
       "    <tr>\n",
       "      <th>7</th>\n",
       "      <td>sold</td>\n",
       "      <td>NaN</td>\n",
       "      <td>2002.0</td>\n",
       "      <td>2023-07-21</td>\n",
       "      <td>NaN</td>\n",
       "      <td>2.0</td>\n",
       "      <td>7476.000000</td>\n",
       "      <td>1375.0</td>\n",
       "      <td>2.0</td>\n",
       "      <td>0.0</td>\n",
       "      <td>1.000000</td>\n",
       "      <td>3.0</td>\n",
       "      <td>mobile</td>\n",
       "      <td>Alaska</td>\n",
       "      <td>Juneau</td>\n",
       "      <td>58.396178</td>\n",
       "      <td>-134.553717</td>\n",
       "    </tr>\n",
       "    <tr>\n",
       "      <th>12</th>\n",
       "      <td>sold</td>\n",
       "      <td>2023-08-21T21:01:22.000000Z</td>\n",
       "      <td>1969.0</td>\n",
       "      <td>2023-08-04</td>\n",
       "      <td>415000.0</td>\n",
       "      <td>1.0</td>\n",
       "      <td>251094.946789</td>\n",
       "      <td>950.0</td>\n",
       "      <td>1.0</td>\n",
       "      <td>0.0</td>\n",
       "      <td>1.567732</td>\n",
       "      <td>2.0</td>\n",
       "      <td>condos</td>\n",
       "      <td>Alaska</td>\n",
       "      <td>Juneau</td>\n",
       "      <td>58.386651</td>\n",
       "      <td>-134.649067</td>\n",
       "    </tr>\n",
       "  </tbody>\n",
       "</table>\n",
       "</div>"
      ],
      "text/plain": [
       "   status                    list_date  year_built   sold_date  sold_price  \\\n",
       "0    sold  2023-06-29T21:16:25.000000Z      1963.0  2023-09-18    554950.0   \n",
       "5    sold  2023-08-21T21:01:22.000000Z      1969.0  2023-08-04    415000.0   \n",
       "6    sold  2023-08-21T21:01:22.000000Z      1920.0  2023-08-03    835000.0   \n",
       "7    sold                          NaN      2002.0  2023-07-21         NaN   \n",
       "12   sold  2023-08-21T21:01:22.000000Z      1969.0  2023-08-04    415000.0   \n",
       "\n",
       "    baths_full       lot_sqft    sqft  baths  garage   stories  beds  \\\n",
       "0          2.0   10454.000000  1821.0    2.0     1.0  1.567732   3.0   \n",
       "5          1.0  251094.946789   950.0    1.0     0.0  1.567732   2.0   \n",
       "6          3.0    5875.000000  3860.0    3.0     2.0  1.567732   5.0   \n",
       "7          2.0    7476.000000  1375.0    2.0     0.0  1.000000   3.0   \n",
       "12         1.0  251094.946789   950.0    1.0     0.0  1.567732   2.0   \n",
       "\n",
       "             type    city  county        lat         lon  \n",
       "0   single_family  Alaska  Juneau  58.363950 -134.593720  \n",
       "5          condos  Alaska  Juneau  58.386651 -134.649067  \n",
       "6   single_family  Alaska  Juneau  58.304573 -134.403991  \n",
       "7          mobile  Alaska  Juneau  58.396178 -134.553717  \n",
       "12         condos  Alaska  Juneau  58.386651 -134.649067  "
      ]
     },
     "execution_count": 45,
     "metadata": {},
     "output_type": "execute_result"
    }
   ],
   "source": [
    "df.head()"
   ]
  },
  {
   "cell_type": "code",
   "execution_count": 47,
   "metadata": {},
   "outputs": [],
   "source": [
    "# filling the list_date column with the forward fill method to keep the sequence\n",
    "\n",
    "df['list_date'] = df['list_date'].fillna(df['list_date'].mode()[0])\n",
    "\n"
   ]
  },
  {
   "cell_type": "code",
   "execution_count": 49,
   "metadata": {},
   "outputs": [],
   "source": [
    "# filling the year_built with the median of the column \n",
    "\n",
    "df['year_built'] = df['year_built'].fillna(df['year_built'].median())\n"
   ]
  },
  {
   "cell_type": "code",
   "execution_count": 51,
   "metadata": {},
   "outputs": [
    {
     "data": {
      "text/plain": [
       "(7988, 17)"
      ]
     },
     "execution_count": 51,
     "metadata": {},
     "output_type": "execute_result"
    }
   ],
   "source": [
    "# Drop rows with null values in the 'sold_price' column\n",
    "df = df.dropna(subset=['sold_price'])\n",
    "\n",
    "# Verify the changes\n",
    "df.shape"
   ]
  },
  {
   "cell_type": "code",
   "execution_count": 53,
   "metadata": {},
   "outputs": [],
   "source": [
    "df.to_csv(\"cleaned_data.csv\")"
   ]
  }
 ],
 "metadata": {
  "kernelspec": {
   "display_name": "Python 3 (ipykernel)",
   "language": "python",
   "name": "python3"
  },
  "language_info": {
   "codemirror_mode": {
    "name": "ipython",
    "version": 3
   },
   "file_extension": ".py",
   "mimetype": "text/x-python",
   "name": "python",
   "nbconvert_exporter": "python",
   "pygments_lexer": "ipython3",
   "version": "3.12.3"
  }
 },
 "nbformat": 4,
 "nbformat_minor": 4
}
